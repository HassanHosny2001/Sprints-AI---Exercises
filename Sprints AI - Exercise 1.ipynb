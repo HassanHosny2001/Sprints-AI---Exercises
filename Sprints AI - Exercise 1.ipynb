{
 "cells": [
  {
   "cell_type": "markdown",
   "id": "0e2bc09b",
   "metadata": {},
   "source": [
    "# Sprints AI - Exercise 1\n",
    "\n",
    "## Hassan Hosny Hassan Ali"
   ]
  },
  {
   "cell_type": "markdown",
   "id": "2ee7a827",
   "metadata": {},
   "source": [
    "**1 -** Given the variables:"
   ]
  },
  {
   "cell_type": "code",
   "execution_count": 19,
   "id": "26b4f72f",
   "metadata": {},
   "outputs": [],
   "source": [
    "planet = \"Earth\"\n",
    "diameter = 12742"
   ]
  },
  {
   "cell_type": "markdown",
   "id": "6f27ab7c",
   "metadata": {},
   "source": [
    "Use `.format()` to print the following string:\n",
    "\n",
    "The diameter of Earth is 12742 kilometers."
   ]
  },
  {
   "cell_type": "code",
   "execution_count": 21,
   "id": "30df4b3e",
   "metadata": {},
   "outputs": [
    {
     "name": "stdout",
     "output_type": "stream",
     "text": [
      "The diameter of Earth is 12742 kilometers\n"
     ]
    }
   ],
   "source": [
    "# Write your solution here\n",
    "print('The diameter of {} is {} kilometers'.format(planet, diameter))"
   ]
  },
  {
   "cell_type": "markdown",
   "id": "778d8385",
   "metadata": {},
   "source": [
    "**2 -** Given this nested dictionary grab the word \"hello\". Be prepared, this will be annoying/tricky"
   ]
  },
  {
   "cell_type": "code",
   "execution_count": 23,
   "id": "47e457d8",
   "metadata": {},
   "outputs": [
    {
     "data": {
      "text/plain": [
       "{'k1': [1,\n",
       "  2,\n",
       "  3,\n",
       "  {'tricky': ['oh', 'man', 'inception', {'target': [1, 2, 3, 'hello']}]}]}"
      ]
     },
     "execution_count": 23,
     "metadata": {},
     "output_type": "execute_result"
    }
   ],
   "source": [
    "d = {'k1':[1,2,3,{'tricky':['oh','man','inception',{'target':[1,2,3,'hello']}]}]}\n",
    "d"
   ]
  },
  {
   "cell_type": "code",
   "execution_count": 25,
   "id": "c8ec20b7",
   "metadata": {},
   "outputs": [
    {
     "data": {
      "text/plain": [
       "'hello'"
      ]
     },
     "execution_count": 25,
     "metadata": {},
     "output_type": "execute_result"
    }
   ],
   "source": [
    "# Write your solution here\n",
    "d['k1'][3]['tricky'][3]['target'][3]"
   ]
  },
  {
   "cell_type": "markdown",
   "id": "075b3b49",
   "metadata": {},
   "source": [
    "3 - Use lambda expressions and the filter() function to filter out words from a list that don't start with the letter 's'. For example:\n",
    "\n",
    "seq = ['soup','dog','salad','cat','great']\n",
    "\n",
    "should be filtered down to:\n",
    "\n",
    "['soup','salad']"
   ]
  },
  {
   "cell_type": "code",
   "execution_count": 26,
   "id": "32ffdb3e",
   "metadata": {},
   "outputs": [],
   "source": [
    "seq = ['soup','dog','salad','cat','great']"
   ]
  },
  {
   "cell_type": "code",
   "execution_count": 28,
   "id": "3d3e0ba6",
   "metadata": {},
   "outputs": [
    {
     "data": {
      "text/plain": [
       "['soup', 'salad']"
      ]
     },
     "execution_count": 28,
     "metadata": {},
     "output_type": "execute_result"
    }
   ],
   "source": [
    "# Write your solution here\n",
    "list(filter(lambda s: s[0]=='s',seq))"
   ]
  },
  {
   "cell_type": "markdown",
   "id": "b1fcb1b0",
   "metadata": {},
   "source": [
    "**4 -**  You are driving a little too fast, and a police officer stops you. Write a **function** to return one of 3 possible results: \"`No ticket`\", \"`Small ticket`\", or \"`Big Ticket`\". If your speed is 60 or less, the result is \"`No Ticket`\". If speed is between 61 and 80 inclusive, the result is \"`Small Ticket`\". If speed is 81 or more, the result is \"`Big Ticket`\". Unless it is your birthday (encoded as a boolean value in the parameters of the function) -- on your birthday, your speed can be 5 higher in all cases."
   ]
  },
  {
   "cell_type": "code",
   "execution_count": 30,
   "id": "f9bbf40f",
   "metadata": {},
   "outputs": [],
   "source": [
    "# Write your solution here\n",
    "def caught_speeding(speed, is_birthday):\n",
    "    if is_birthday:\n",
    "        speed -= 5\n",
    "        \n",
    "    if speed <= 60: # Your first condition goes here in place of 1\n",
    "        return 'No Ticket'\n",
    "    elif speed >= 61 and speed <= 80: # Your next condition goes here in place of 1 \n",
    "        return 'Small Ticket'\n",
    "    else:\n",
    "        return 'Big Ticket'"
   ]
  },
  {
   "cell_type": "code",
   "execution_count": 32,
   "id": "a398406f",
   "metadata": {},
   "outputs": [
    {
     "name": "stdout",
     "output_type": "stream",
     "text": [
      "No Ticket\n",
      "Small Ticket\n"
     ]
    }
   ],
   "source": [
    "# Would you like to check your function here to see if it is performing as we wanted?\n",
    "print(caught_speeding(61,True))\n",
    "print(caught_speeding(81,True))"
   ]
  },
  {
   "cell_type": "markdown",
   "id": "5664c79b",
   "metadata": {},
   "source": [
    "**5-** Write a Python program to returns sum of all divisors of a number.\n",
    "\n",
    "If number = 8\n",
    "\n",
    "If number = 12\n",
    "\n",
    "Expected Output:\n",
    "\n",
    "7\n",
    "\n",
    "16"
   ]
  },
  {
   "cell_type": "code",
   "execution_count": 34,
   "id": "8f8f58b3",
   "metadata": {},
   "outputs": [],
   "source": [
    "# Write your solution here\n",
    "def divisors(n):\n",
    "    if n == 0:\n",
    "        return 0\n",
    "    elif n == 1:\n",
    "        return 1\n",
    "    else:\n",
    "        count = 0\n",
    "        divisors = []\n",
    "        for i in range(1, n-1):\n",
    "            if n%i == 0:\n",
    "                count +=1\n",
    "                divisors.append(i)\n",
    "        print(sum(divisors))"
   ]
  },
  {
   "cell_type": "code",
   "execution_count": 36,
   "id": "a64af00b",
   "metadata": {},
   "outputs": [
    {
     "name": "stdout",
     "output_type": "stream",
     "text": [
      "16\n"
     ]
    }
   ],
   "source": [
    "divisors(12)"
   ]
  },
  {
   "cell_type": "markdown",
   "id": "68545c2f",
   "metadata": {},
   "source": [
    "**6-** Sometimes, while working with Python Matrix, we can have a problem in which we need to perform grouping of all the elements with are same. This kind of problem can have application in data domains. Let’s discuss certain ways in which this task can be performed.\n",
    "\n",
    "Input : test_list = [1, 3, 4, 4, 2, 3]\n",
    "\n",
    "Output : [[1], [2], [3, 3], [4, 4]]\n",
    "\n",
    "Input : test_list = [1, 3, 4, 2]\n",
    "\n",
    "Output : [[1], [2], [3], [4]]"
   ]
  },
  {
   "cell_type": "code",
   "execution_count": 13,
   "id": "23d25b6a",
   "metadata": {},
   "outputs": [
    {
     "name": "stdout",
     "output_type": "stream",
     "text": [
      "Enter number of elements : 6\n",
      "1\n",
      "3\n",
      "4\n",
      "4\n",
      "2\n",
      "3\n",
      "Elements in list [1, 3, 4, 4, 2, 3]\n"
     ]
    }
   ],
   "source": [
    "# Write your solution here\n",
    "test_list = []\n",
    "n = int(input(\"Enter number of elements : \"))\n",
    "for i in range(0,n):\n",
    "    elements = int(input())\n",
    "    test_list.append(elements)\n",
    "\n",
    "print('Elements in list ' + str(test_list))"
   ]
  },
  {
   "cell_type": "code",
   "execution_count": 14,
   "id": "80a7e059",
   "metadata": {},
   "outputs": [
    {
     "data": {
      "text/plain": [
       "[[1], [2], [3, 3], [4, 4]]"
      ]
     },
     "execution_count": 14,
     "metadata": {},
     "output_type": "execute_result"
    }
   ],
   "source": [
    "from itertools import groupby\n",
    "result = [list(val) for key, val in groupby(sorted(test_list))]  \n",
    "result"
   ]
  },
  {
   "cell_type": "markdown",
   "id": "24c72897",
   "metadata": {},
   "source": [
    "**7-** Given two lists a, b. Check if two lists have at least one element common in them.\n",
    "\n",
    "Input : a = [1, 2, 3, 4, 5]\n",
    "        b = [5, 6, 7, 8, 9]\n",
    "\n",
    "Output : True\n",
    "\n",
    "Input : a=[1, 2, 3, 4, 5]\n",
    "        b=[6, 7, 8, 9]\n",
    "\n",
    "Output : False"
   ]
  },
  {
   "cell_type": "code",
   "execution_count": 38,
   "id": "a45c463d",
   "metadata": {},
   "outputs": [],
   "source": [
    "# Write your solution here\n",
    "def common_element(list_a, list_b):\n",
    "    output = False\n",
    "    #traverse for list a\n",
    "    for x in list_a:\n",
    "        #traverse for list b\n",
    "        for y in list_b:\n",
    "            if x == y:\n",
    "                output = True\n",
    "                return output\n",
    "    return output"
   ]
  },
  {
   "cell_type": "code",
   "execution_count": 40,
   "id": "ef39b84d",
   "metadata": {},
   "outputs": [
    {
     "data": {
      "text/plain": [
       "True"
      ]
     },
     "execution_count": 40,
     "metadata": {},
     "output_type": "execute_result"
    }
   ],
   "source": [
    "common_element([1, 2, 3, 4, 5], [5,6, 7, 8, 9])"
   ]
  }
 ],
 "metadata": {
  "kernelspec": {
   "display_name": "Python 3",
   "language": "python",
   "name": "python3"
  },
  "language_info": {
   "codemirror_mode": {
    "name": "ipython",
    "version": 3
   },
   "file_extension": ".py",
   "mimetype": "text/x-python",
   "name": "python",
   "nbconvert_exporter": "python",
   "pygments_lexer": "ipython3",
   "version": "3.8.8"
  }
 },
 "nbformat": 4,
 "nbformat_minor": 5
}
